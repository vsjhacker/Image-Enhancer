{
 "cells": [
  {
   "cell_type": "code",
   "execution_count": 19,
   "metadata": {},
   "outputs": [],
   "source": [
    "import os\n",
    "import cv2\n",
    "import random\n",
    "from tqdm import tqdm\n",
    "from shutil import copyfile\n",
    "import shutil"
   ]
  },
  {
   "cell_type": "code",
   "execution_count": 3,
   "metadata": {},
   "outputs": [
    {
     "data": {
      "text/plain": [
       "'/mnt/c/users/sv/source/Enhancement/Image-Enchancer/Experiments'"
      ]
     },
     "execution_count": 3,
     "metadata": {},
     "output_type": "execute_result"
    }
   ],
   "source": [
    "%pwd"
   ]
  },
  {
   "cell_type": "code",
   "execution_count": 4,
   "metadata": {},
   "outputs": [],
   "source": [
    "os.chdir(\"..\")"
   ]
  },
  {
   "cell_type": "code",
   "execution_count": 5,
   "metadata": {},
   "outputs": [],
   "source": [
    "dataset_path = './blur_dataset/'\n",
    "blurred_path = './Dataset_blurred/'"
   ]
  },
  {
   "cell_type": "code",
   "execution_count": 6,
   "metadata": {},
   "outputs": [],
   "source": [
    "# Ensure blurred dataset directory exists\n",
    "os.makedirs(blurred_path, exist_ok=True)"
   ]
  },
  {
   "cell_type": "code",
   "execution_count": 7,
   "metadata": {},
   "outputs": [],
   "source": [
    "# Function to apply random blur\n",
    "def apply_random_blur(image):\n",
    "    blur_type = random.choice(['average', 'gaussian', 'median'])\n",
    "    if blur_type == 'average':\n",
    "        return cv2.blur(image, (5, 5))\n",
    "    elif blur_type == 'gaussian':\n",
    "        return cv2.GaussianBlur(image, (5, 5), 0)\n",
    "    elif blur_type == 'median':\n",
    "        return cv2.medianBlur(image, 5)"
   ]
  },
  {
   "cell_type": "code",
   "execution_count": 8,
   "metadata": {},
   "outputs": [],
   "source": [
    "# Get all image filenames\n",
    "all_images = [f for f in os.listdir(dataset_path) if os.path.isfile(os.path.join(dataset_path, f))]\n",
    "random.shuffle(all_images)"
   ]
  },
  {
   "cell_type": "code",
   "execution_count": 9,
   "metadata": {},
   "outputs": [],
   "source": [
    "# Split images into blurred and non-blurred sets\n",
    "blurred_images = all_images[:2500]\n",
    "non_blurred_images = all_images[2500:]"
   ]
  },
  {
   "cell_type": "code",
   "execution_count": 10,
   "metadata": {},
   "outputs": [
    {
     "name": "stderr",
     "output_type": "stream",
     "text": [
      " 78%|███████▊  | 1955/2500 [04:27<00:51, 10.57it/s]Premature end of JPEG file\n",
      "100%|██████████| 2500/2500 [05:52<00:00,  7.10it/s]\n"
     ]
    }
   ],
   "source": [
    "# Apply blur to the selected images\n",
    "for image_name in tqdm(blurred_images):\n",
    "    img = cv2.imread(os.path.join(dataset_path, image_name))\n",
    "    blurred_img = apply_random_blur(img)\n",
    "    cv2.imwrite(os.path.join(blurred_path, image_name), blurred_img)"
   ]
  },
  {
   "cell_type": "code",
   "execution_count": 11,
   "metadata": {},
   "outputs": [],
   "source": [
    "# Copy non-blurred images to the blurred dataset folder\n",
    "for image_name in non_blurred_images:\n",
    "    copyfile(os.path.join(dataset_path, image_name), os.path.join(blurred_path, image_name))"
   ]
  },
  {
   "cell_type": "code",
   "execution_count": 13,
   "metadata": {},
   "outputs": [],
   "source": [
    "from sklearn.model_selection import train_test_split"
   ]
  },
  {
   "cell_type": "code",
   "execution_count": 14,
   "metadata": {},
   "outputs": [],
   "source": [
    "train_dir = './Dataset_blurred/train/'\n",
    "val_dir = './Dataset_blurred/val/'"
   ]
  },
  {
   "cell_type": "code",
   "execution_count": 15,
   "metadata": {},
   "outputs": [],
   "source": [
    "# Create directories if they don't exist\n",
    "os.makedirs(train_dir + 'blurry/', exist_ok=True)\n",
    "os.makedirs(train_dir + 'sharp/', exist_ok=True)\n",
    "os.makedirs(val_dir + 'blurry/', exist_ok=True)\n",
    "os.makedirs(val_dir + 'sharp/', exist_ok=True)"
   ]
  },
  {
   "cell_type": "code",
   "execution_count": 16,
   "metadata": {},
   "outputs": [],
   "source": [
    "# Split into train and validation sets\n",
    "blurred_images_train, blurred_images_val = train_test_split(blurred_images, test_size=0.2, random_state=42)\n",
    "non_blurred_images_train, non_blurred_images_val = train_test_split(non_blurred_images, test_size=0.2, random_state=42)"
   ]
  },
  {
   "cell_type": "code",
   "execution_count": 17,
   "metadata": {},
   "outputs": [],
   "source": [
    "# Move images to the respective directories\n",
    "def move_images(image_list, destination_folder, label):\n",
    "    for image_name in image_list:\n",
    "        shutil.move(os.path.join(blurred_path, image_name), os.path.join(destination_folder, label, image_name))"
   ]
  },
  {
   "cell_type": "code",
   "execution_count": 20,
   "metadata": {},
   "outputs": [],
   "source": [
    "move_images(blurred_images_train, train_dir, 'blurry')\n",
    "move_images(non_blurred_images_train, train_dir, 'sharp')\n",
    "move_images(blurred_images_val, val_dir, 'blurry')\n",
    "move_images(non_blurred_images_val, val_dir, 'sharp')"
   ]
  },
  {
   "cell_type": "code",
   "execution_count": 28,
   "metadata": {},
   "outputs": [],
   "source": [
    "import torch\n",
    "from torch import nn, optim\n",
    "from torch.utils.data import DataLoader, Dataset\n",
    "from torchvision import datasets, transforms\n",
    "import torch.nn.functional as F"
   ]
  },
  {
   "cell_type": "code",
   "execution_count": 22,
   "metadata": {},
   "outputs": [],
   "source": [
    "# Data transforms\n",
    "train_transform = transforms.Compose([\n",
    "    transforms.Resize((32, 32)),\n",
    "    transforms.ToTensor(),\n",
    "])\n",
    "\n",
    "val_transform = transforms.Compose([\n",
    "    transforms.Resize((32, 32)),\n",
    "    transforms.ToTensor(),\n",
    "])"
   ]
  },
  {
   "cell_type": "code",
   "execution_count": 23,
   "metadata": {},
   "outputs": [],
   "source": [
    "# Datasets and dataloaders\n",
    "train_dataset = datasets.ImageFolder(train_dir, transform=train_transform)\n",
    "val_dataset = datasets.ImageFolder(val_dir, transform=val_transform)\n",
    "\n",
    "train_loader = DataLoader(train_dataset, batch_size=32, shuffle=True)\n",
    "val_loader = DataLoader(val_dataset, batch_size=32, shuffle=False)"
   ]
  },
  {
   "cell_type": "code",
   "execution_count": 24,
   "metadata": {},
   "outputs": [],
   "source": [
    "# Simple CNN model (as before)\n",
    "class BlurDetectionModel(nn.Module):\n",
    "    def __init__(self):\n",
    "        super(BlurDetectionModel, self).__init__()\n",
    "        self.conv1 = nn.Conv2d(3, 32, kernel_size=3, padding=1)\n",
    "        self.pool = nn.MaxPool2d(kernel_size=2, stride=2, padding=0)\n",
    "        self.conv2 = nn.Conv2d(32, 64, kernel_size=3, padding=1)\n",
    "        self.fc1 = nn.Linear(64 * 8 * 8, 128)\n",
    "        self.fc2 = nn.Linear(128, 1)\n",
    "        \n",
    "    def forward(self, x):\n",
    "        x = self.pool(F.relu(self.conv1(x)))\n",
    "        x = self.pool(F.relu(self.conv2(x)))\n",
    "        x = x.view(-1, 64 * 8 * 8)\n",
    "        x = F.relu(self.fc1(x))\n",
    "        x = torch.sigmoid(self.fc2(x))\n",
    "        return x"
   ]
  },
  {
   "cell_type": "code",
   "execution_count": 25,
   "metadata": {},
   "outputs": [],
   "source": [
    "model = BlurDetectionModel()"
   ]
  },
  {
   "cell_type": "code",
   "execution_count": 26,
   "metadata": {},
   "outputs": [],
   "source": [
    "# Loss and optimizer\n",
    "criterion = nn.BCELoss()\n",
    "optimizer = optim.Adam(model.parameters(), lr=0.001)"
   ]
  },
  {
   "cell_type": "code",
   "execution_count": 29,
   "metadata": {},
   "outputs": [
    {
     "name": "stdout",
     "output_type": "stream",
     "text": [
      "Epoch [1/10], Loss: 0.6942\n"
     ]
    },
    {
     "name": "stderr",
     "output_type": "stream",
     "text": [
      "/home/vivek/.cache/pypoetry/virtualenvs/research-H8km-SSG-py3.10/lib/python3.10/site-packages/PIL/Image.py:1056: UserWarning: Palette images with Transparency expressed in bytes should be converted to RGBA images\n",
      "  warnings.warn(\n"
     ]
    },
    {
     "name": "stdout",
     "output_type": "stream",
     "text": [
      "Validation Loss: 0.6928\n",
      "Epoch [2/10], Loss: 0.6930\n",
      "Validation Loss: 0.6931\n",
      "Epoch [3/10], Loss: 0.6933\n",
      "Validation Loss: 0.6932\n",
      "Epoch [4/10], Loss: 0.6936\n",
      "Validation Loss: 0.6921\n",
      "Epoch [5/10], Loss: 0.6929\n",
      "Validation Loss: 0.6919\n",
      "Epoch [6/10], Loss: 0.6936\n",
      "Validation Loss: 0.6930\n",
      "Epoch [7/10], Loss: 0.6937\n",
      "Validation Loss: 0.6925\n",
      "Epoch [8/10], Loss: 0.6932\n",
      "Validation Loss: 0.6932\n",
      "Epoch [9/10], Loss: 0.6928\n",
      "Validation Loss: 0.6920\n",
      "Epoch [10/10], Loss: 0.6921\n",
      "Validation Loss: 0.6896\n"
     ]
    }
   ],
   "source": [
    "# Training loop\n",
    "num_epochs = 10\n",
    "for epoch in range(num_epochs):\n",
    "    model.train()\n",
    "    running_loss = 0.0\n",
    "    for images, labels in train_loader:\n",
    "        labels = labels.float().unsqueeze(1)  # Convert labels to float for BCELoss\n",
    "        optimizer.zero_grad()\n",
    "        outputs = model(images)\n",
    "        loss = criterion(outputs, labels)\n",
    "        loss.backward()\n",
    "        optimizer.step()\n",
    "        running_loss += loss.item()\n",
    "    print(f'Epoch [{epoch+1}/{num_epochs}], Loss: {running_loss/len(train_loader):.4f}')\n",
    "    \n",
    "    # Validation loop\n",
    "    model.eval()\n",
    "    val_loss = 0.0\n",
    "    with torch.no_grad():\n",
    "        for images, labels in val_loader:\n",
    "            labels = labels.float().unsqueeze(1)\n",
    "            outputs = model(images)\n",
    "            loss = criterion(outputs, labels)\n",
    "            val_loss += loss.item()\n",
    "    print(f'Validation Loss: {val_loss/len(val_loader):.4f}')"
   ]
  },
  {
   "cell_type": "code",
   "execution_count": 30,
   "metadata": {},
   "outputs": [
    {
     "data": {
      "text/plain": [
       "'/mnt/c/users/sv/source/Enhancement/Image-Enchancer'"
      ]
     },
     "execution_count": 30,
     "metadata": {},
     "output_type": "execute_result"
    }
   ],
   "source": [
    "%pwd"
   ]
  },
  {
   "cell_type": "code",
   "execution_count": 34,
   "metadata": {},
   "outputs": [
    {
     "name": "stdout",
     "output_type": "stream",
     "text": [
      "The image is blurry.\n"
     ]
    }
   ],
   "source": [
    "from PIL import Image\n",
    "\n",
    "# Define the image transform (same as used in training)\n",
    "transform = transforms.Compose([\n",
    "    transforms.Resize((32, 32)),\n",
    "    transforms.ToTensor(),\n",
    "])\n",
    "\n",
    "# Load and preprocess the image\n",
    "image_path = './/Images//image_52.jpg'  # Replace with your image path\n",
    "image = Image.open(image_path).convert('RGB')\n",
    "image = transform(image)\n",
    "image = image.unsqueeze(0)  # Add a batch dimension (batch size of 1)\n",
    "\n",
    "# Set the model to evaluation mode\n",
    "model.eval()\n",
    "\n",
    "# Make a prediction \n",
    "with torch.no_grad():\n",
    "    output = model(image)\n",
    "    prediction = torch.round(output).item()  # 0 or 1 for blur detection\n",
    "\n",
    "# Interpret the result\n",
    "if prediction == 1:\n",
    "    print(\"The image is blurry.\")\n",
    "else:\n",
    "    print(\"The image is not blurry.\")"
   ]
  },
  {
   "cell_type": "code",
   "execution_count": null,
   "metadata": {},
   "outputs": [],
   "source": []
  }
 ],
 "metadata": {
  "kernelspec": {
   "display_name": "research-H8km-SSG-py3.10",
   "language": "python",
   "name": "python3"
  },
  "language_info": {
   "codemirror_mode": {
    "name": "ipython",
    "version": 3
   },
   "file_extension": ".py",
   "mimetype": "text/x-python",
   "name": "python",
   "nbconvert_exporter": "python",
   "pygments_lexer": "ipython3",
   "version": "3.10.12"
  }
 },
 "nbformat": 4,
 "nbformat_minor": 2
}
