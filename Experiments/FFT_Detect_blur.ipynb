{
 "cells": [
  {
   "cell_type": "code",
   "execution_count": 5,
   "metadata": {},
   "outputs": [],
   "source": [
    "import os\n",
    "import cv2\n",
    "import numpy as np\n",
    "import matplotlib.pyplot as plt\n",
    "import shutil"
   ]
  },
  {
   "cell_type": "code",
   "execution_count": 6,
   "metadata": {},
   "outputs": [
    {
     "data": {
      "text/plain": [
       "'/mnt/c/Users/sv/source/Enhancement/Image-Enchancer/Experiments'"
      ]
     },
     "execution_count": 6,
     "metadata": {},
     "output_type": "execute_result"
    }
   ],
   "source": [
    "%pwd"
   ]
  },
  {
   "cell_type": "code",
   "execution_count": 7,
   "metadata": {},
   "outputs": [],
   "source": [
    "os.chdir(\"..\")"
   ]
  },
  {
   "cell_type": "code",
   "execution_count": 1,
   "metadata": {},
   "outputs": [],
   "source": [
    "def detect_blur_fft(image, size=60, thresh=10):\n",
    "    \n",
    "    gray = cv2.cvtColor(image, cv2.COLOR_BGR2GRAY)\n",
    "    \n",
    "    # Compute the FFT of the image\n",
    "    fft = np.fft.fft2(gray)\n",
    "    fft_shift = np.fft.fftshift(fft)\n",
    "    \n",
    "    # Calculate the magnitude spectrum\n",
    "    magnitude_spectrum = 20 * np.log(np.abs(fft_shift))\n",
    "\n",
    "    # Remove the low frequencies by setting the center square of size (size x size) to zero\n",
    "    h, w = gray.shape\n",
    "    half_h, half_w = int(h / 2), int(w / 2)\n",
    "    fft_shift[half_h - size:half_h + size, half_w - size:half_w + size] = 0\n",
    "\n",
    "    # Inverse FFT to reconstruct the image without low frequencies\n",
    "    fft_shift = np.fft.ifftshift(fft_shift)\n",
    "    recon = np.fft.ifft2(fft_shift)\n",
    "    recon = np.abs(recon)\n",
    "    \n",
    "    # Compute the mean of the magnitude spectrum (blur score)\n",
    "    mean_val = np.mean(magnitude_spectrum)\n",
    "    blur = mean_val < thresh\n",
    "    \n",
    "    return blur, magnitude_spectrum, mean_val"
   ]
  },
  {
   "cell_type": "code",
   "execution_count": 2,
   "metadata": {},
   "outputs": [],
   "source": [
    "def analyze_dataset_blur_fft(dataset_path, size=60, thresh=10, blurry_folder='blurry', non_blurry_folder='non_blurry'):\n",
    "    results = []\n",
    "\n",
    "    # Create output directories if they do not exist\n",
    "    if not os.path.exists(blurry_folder):\n",
    "        os.makedirs(blurry_folder)\n",
    "    if not os.path.exists(non_blurry_folder):\n",
    "        os.makedirs(non_blurry_folder)\n",
    "\n",
    "    # Iterate through all files in the dataset directory\n",
    "    for filename in os.listdir(dataset_path):\n",
    "        if filename.endswith(\".jpg\") or filename.endswith(\".png\"):  # Adjust as needed for your dataset\n",
    "            image_path = os.path.join(dataset_path, filename)\n",
    "            \n",
    "            # Read the image\n",
    "            image = cv2.imread(image_path)\n",
    "            \n",
    "            # Detect blur using FFT\n",
    "            is_blurry, magnitude_spectrum, mean_val = detect_blur_fft(image, size=size, thresh=thresh)\n",
    "            \n",
    "            # Move the image to the appropriate folder\n",
    "            if is_blurry:\n",
    "                shutil.copy(image_path, os.path.join(blurry_folder, filename))\n",
    "            else:\n",
    "                shutil.copy(image_path, os.path.join(non_blurry_folder, filename))\n",
    "\n",
    "            # Store the result\n",
    "            results.append({\n",
    "                \"image\": filename,\n",
    "                \"is_blurry\": is_blurry,\n",
    "                \"mean_val\": mean_val\n",
    "            })\n",
    "\n",
    "    return results"
   ]
  },
  {
   "cell_type": "code",
   "execution_count": 3,
   "metadata": {},
   "outputs": [],
   "source": [
    "def analyze_results(results):\n",
    "    total_images = len(results)\n",
    "    blurry_images = sum(1 for result in results if result['is_blurry'])\n",
    "    not_blurry_images = total_images - blurry_images\n",
    "\n",
    "    print(f\"Total Images: {total_images}\")\n",
    "    print(f\"Blurry Images: {blurry_images} ({(blurry_images / total_images) * 100:.2f}%)\")\n",
    "    print(f\"Not Blurry Images: {not_blurry_images} ({(not_blurry_images / total_images) * 100:.2f}%)\")\n",
    "\n",
    "    # Plot the distribution of mean FFT magnitude values\n",
    "    mean_vals = [result['mean_val'] for result in results]\n",
    "    plt.hist(mean_vals, bins=20, color='blue', edgecolor='black')\n",
    "    plt.title('Distribution of FFT Mean Magnitude Values')\n",
    "    plt.xlabel('Mean FFT Magnitude')\n",
    "    plt.ylabel('Number of Images')\n",
    "    plt.show()\n",
    "\n",
    "    # List some example images that were detected as blurry\n",
    "    blurry_examples = [result['image'] for result in results if result['is_blurry']]\n",
    "    if blurry_examples:\n",
    "        print(f\"Examples of blurry images: {blurry_examples[:5]}\")\n",
    "    else:\n",
    "        print(\"No blurry images detected.\")"
   ]
  },
  {
   "cell_type": "code",
   "execution_count": 8,
   "metadata": {},
   "outputs": [],
   "source": [
    "dataset_path = './blurred_images'\n",
    "blurry_folder = \"./Blurry_folder\"\n",
    "non_blurry_folder = \"./Non_Blurry_folder\"\n",
    "results = analyze_dataset_blur_fft(dataset_path, size=30, thresh=180, blurry_folder=blurry_folder, non_blurry_folder=non_blurry_folder)"
   ]
  },
  {
   "cell_type": "code",
   "execution_count": 9,
   "metadata": {},
   "outputs": [
    {
     "name": "stdout",
     "output_type": "stream",
     "text": [
      "Total Images: 96\n",
      "Blurry Images: 48 (50.00%)\n",
      "Not Blurry Images: 48 (50.00%)\n"
     ]
    },
    {
     "data": {
      "image/png": "[encoded data removed]",
      "text/plain": [
       "<Figure size 640x480 with 1 Axes>"
      ]
     },
     "metadata": {},
     "output_type": "display_data"
    },
    {
     "name": "stdout",
     "output_type": "stream",
     "text": [
      "Examples of blurry images: ['blur_image6.jpg', 'blur_image_3.jpg', 'Gaussian_blur.jpg', 'image_1.jpg', 'image_10.jpg']\n"
     ]
    }
   ],
   "source": [
    "analyze_results(results)"
   ]
  },
  {
   "cell_type": "code",
   "execution_count": 8,
   "metadata": {},
   "outputs": [
    {
     "data": {
      "text/plain": [
       "'/mnt/c/Users/sv/source/Enhancement/Image-Enchancer/Images'"
      ]
     },
     "execution_count": 8,
     "metadata": {},
     "output_type": "execute_result"
    }
   ],
   "source": [
    "import os\n",
    "import cv2\n",
    "import numpy as np\n",
    "%pwd"
   ]
  },
  {
   "cell_type": "code",
   "execution_count": 2,
   "metadata": {},
   "outputs": [],
   "source": [
    "os.chdir(\"../Images\")"
   ]
  },
  {
   "cell_type": "code",
   "execution_count": 20,
   "metadata": {},
   "outputs": [],
   "source": [
    "def detect_blur_fft(image, size=50, thresh=190):\n",
    "    gray = cv2.cvtColor(image, cv2.COLOR_BGR2GRAY)\n",
    "    \n",
    "    # Compute the FFT of the image\n",
    "    fft = np.fft.fft2(gray)\n",
    "    fft_shift = np.fft.fftshift(fft)\n",
    "    \n",
    "    # Calculate the magnitude spectrum\n",
    "    magnitude_spectrum = 20 * np.log(np.abs(fft_shift))\n",
    "\n",
    "    # Remove the low frequencies by setting the center square of size (size x size) to zero\n",
    "    h, w = gray.shape\n",
    "    half_h, half_w = int(h / 2), int(w / 2)\n",
    "    fft_shift[half_h - size:half_h + size, half_w - size:half_w + size] = 0\n",
    "\n",
    "    # Inverse FFT to reconstruct the image without low frequencies\n",
    "    fft_shift = np.fft.ifftshift(fft_shift)\n",
    "    recon = np.fft.ifft2(fft_shift)\n",
    "    recon = np.abs(recon)\n",
    "    \n",
    "    # Compute the mean of the magnitude spectrum (blur score)\n",
    "    mean_val = np.mean(magnitude_spectrum)\n",
    "    print(mean_val)\n",
    "    blur = mean_val < thresh\n",
    "    \n",
    "    return blur, magnitude_spectrum, mean_val\n"
   ]
  },
  {
   "cell_type": "code",
   "execution_count": 21,
   "metadata": {},
   "outputs": [
    {
     "name": "stdout",
     "output_type": "stream",
     "text": [
      "198.15742878622962\n",
      "Is the image blurry? No\n",
      "Blur Score (Mean of Magnitude Spectrum): 198.15742878622962\n"
     ]
    }
   ],
   "source": [
    "image_path = \"jack.jpg\"\n",
    "image = cv2.imread(image_path)\n",
    "is_blurry, magnitude_spectrum, mean_val = detect_blur_fft(image)\n",
    "\n",
    "print(f\"Is the image blurry? {'Yes' if is_blurry else 'No'}\")\n",
    "print(f\"Blur Score (Mean of Magnitude Spectrum): {mean_val}\")"
   ]
  },
  {
   "cell_type": "code",
   "execution_count": null,
   "metadata": {},
   "outputs": [],
   "source": []
  }
 ],
 "metadata": {
  "kernelspec": {
   "display_name": "research-TAz2ycAg-py3.10",
   "language": "python",
   "name": "python3"
  },
  "language_info": {
   "codemirror_mode": {
    "name": "ipython",
    "version": 3
   },
   "file_extension": ".py",
   "mimetype": "text/x-python",
   "name": "python",
   "nbconvert_exporter": "python",
   "pygments_lexer": "ipython3",
   "version": "3.10.12"
  }
 },
 "nbformat": 4,
 "nbformat_minor": 2
}
